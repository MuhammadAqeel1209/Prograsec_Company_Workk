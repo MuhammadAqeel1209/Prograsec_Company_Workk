{
 "cells": [
  {
   "cell_type": "code",
   "execution_count": 8,
   "id": "a154db40",
   "metadata": {},
   "outputs": [
    {
     "name": "stdout",
     "output_type": "stream",
     "text": [
      "Collecting spacy\n",
      "  Using cached spacy-3.8.2.tar.gz (1.3 MB)\n",
      "  Installing build dependencies: started\n",
      "  Installing build dependencies: still running...\n",
      "  Installing build dependencies: still running...\n",
      "  Installing build dependencies: finished with status 'error'\n",
      "Note: you may need to restart the kernel to use updated packages.\n"
     ]
    },
    {
     "name": "stderr",
     "output_type": "stream",
     "text": [
      "  error: subprocess-exited-with-error\n",
      "  \n",
      "  × pip subprocess to install build dependencies did not run successfully.\n",
      "  │ exit code: 1\n",
      "  ╰─> [66 lines of output]\n",
      "      Ignoring numpy: markers 'python_version < \"3.9\"' don't match your environment\n",
      "      Collecting setuptools\n",
      "        Using cached setuptools-79.0.0-py3-none-any.whl.metadata (6.5 kB)\n",
      "      Collecting cython<3.0,>=0.25\n",
      "        Using cached Cython-0.29.37-py2.py3-none-any.whl.metadata (3.1 kB)\n",
      "      Collecting cymem<2.1.0,>=2.0.2\n",
      "        Using cached cymem-2.0.11-cp313-cp313-win_amd64.whl.metadata (8.8 kB)\n",
      "      Collecting preshed<3.1.0,>=3.0.2\n",
      "        Using cached preshed-3.0.9.tar.gz (14 kB)\n",
      "        Installing build dependencies: started\n",
      "        Installing build dependencies: finished with status 'done'\n",
      "        Getting requirements to build wheel: started\n",
      "        Getting requirements to build wheel: finished with status 'done'\n",
      "        Preparing metadata (pyproject.toml): started\n",
      "        Preparing metadata (pyproject.toml): finished with status 'done'\n",
      "      Collecting murmurhash<1.1.0,>=0.28.0\n",
      "        Using cached murmurhash-1.0.12-cp313-cp313-win_amd64.whl.metadata (2.2 kB)\n",
      "      Collecting thinc<8.4.0,>=8.3.0\n",
      "        Using cached thinc-8.3.6-cp313-cp313-win_amd64.whl.metadata (15 kB)\n",
      "      Collecting numpy<2.1.0,>=2.0.0\n",
      "        Using cached numpy-2.0.2.tar.gz (18.9 MB)\n",
      "        Installing build dependencies: started\n",
      "        Installing build dependencies: finished with status 'done'\n",
      "        Getting requirements to build wheel: started\n",
      "        Getting requirements to build wheel: finished with status 'done'\n",
      "        Installing backend dependencies: started\n",
      "        Installing backend dependencies: finished with status 'done'\n",
      "        Preparing metadata (pyproject.toml): started\n",
      "        Preparing metadata (pyproject.toml): finished with status 'error'\n",
      "        error: subprocess-exited-with-error\n",
      "      \n",
      "        Ã— Preparing metadata (pyproject.toml) did not run successfully.\n",
      "        â”‚ exit code: 1\n",
      "        â•°â”€> [22 lines of output]\n",
      "            + c:\\Users\\Muhammad Aqeel\\AppData\\Local\\Programs\\Python\\Python313\\python.exe C:\\Users\\Muhammad Aqeel\\AppData\\Local\\Temp\\pip-install-g3h_f70_\\numpy_78993cba7abd4605a7407fc40211b99b\\vendored-meson\\meson\\meson.py setup C:\\Users\\Muhammad Aqeel\\AppData\\Local\\Temp\\pip-install-g3h_f70_\\numpy_78993cba7abd4605a7407fc40211b99b C:\\Users\\Muhammad Aqeel\\AppData\\Local\\Temp\\pip-install-g3h_f70_\\numpy_78993cba7abd4605a7407fc40211b99b\\.mesonpy-gnynqnx1 -Dbuildtype=release -Db_ndebug=if-release -Db_vscrt=md --native-file=C:\\Users\\Muhammad Aqeel\\AppData\\Local\\Temp\\pip-install-g3h_f70_\\numpy_78993cba7abd4605a7407fc40211b99b\\.mesonpy-gnynqnx1\\meson-python-native-file.ini\n",
      "            The Meson build system\n",
      "            Version: 1.4.99\n",
      "            Source dir: C:\\Users\\Muhammad Aqeel\\AppData\\Local\\Temp\\pip-install-g3h_f70_\\numpy_78993cba7abd4605a7407fc40211b99b\n",
      "            Build dir: C:\\Users\\Muhammad Aqeel\\AppData\\Local\\Temp\\pip-install-g3h_f70_\\numpy_78993cba7abd4605a7407fc40211b99b\\.mesonpy-gnynqnx1\n",
      "            Build type: native build\n",
      "            Project name: NumPy\n",
      "            Project version: 2.0.2\n",
      "            C compiler for the host machine: gcc (gcc 9.2.0 \"gcc (MinGW.org GCC Build-2) 9.2.0\")\n",
      "            C linker for the host machine: gcc ld.bfd 2.32\n",
      "            C++ compiler for the host machine: c++ (gcc 9.2.0 \"c++ (MinGW.org GCC Build-2) 9.2.0\")\n",
      "            C++ linker for the host machine: c++ ld.bfd 2.32\n",
      "            Cython compiler for the host machine: cython (cython 3.0.12)\n",
      "            Host machine cpu family: x86\n",
      "            Host machine cpu: x86\n",
      "            Program python found: YES (c:\\Users\\Muhammad Aqeel\\AppData\\Local\\Programs\\Python\\Python313\\python.exe)\n",
      "            Need python for x86, but found x86_64\n",
      "            Run-time dependency python found: NO (tried sysconfig)\n",
      "      \n",
      "            ..\\meson.build:41:12: ERROR: Python dependency not found\n",
      "      \n",
      "            A full log can be found at C:\\Users\\Muhammad Aqeel\\AppData\\Local\\Temp\\pip-install-g3h_f70_\\numpy_78993cba7abd4605a7407fc40211b99b\\.mesonpy-gnynqnx1\\meson-logs\\meson-log.txt\n",
      "            [end of output]\n",
      "      \n",
      "        note: This error originates from a subprocess, and is likely not a problem with pip.\n",
      "      error: metadata-generation-failed\n",
      "      \n",
      "      Ã— Encountered error while generating package metadata.\n",
      "      â•°â”€> See above for output.\n",
      "      \n",
      "      note: This is an issue with the package mentioned above, not pip.\n",
      "      hint: See above for details.\n",
      "      [end of output]\n",
      "  \n",
      "  note: This error originates from a subprocess, and is likely not a problem with pip.\n",
      "error: subprocess-exited-with-error\n",
      "\n",
      "× pip subprocess to install build dependencies did not run successfully.\n",
      "│ exit code: 1\n",
      "╰─> See above for output.\n",
      "\n",
      "note: This error originates from a subprocess, and is likely not a problem with pip.\n"
     ]
    }
   ],
   "source": [
    "%pip install spacy\n"
   ]
  },
  {
   "cell_type": "code",
   "execution_count": 11,
   "id": "0ad3ea47",
   "metadata": {},
   "outputs": [
    {
     "ename": "ModuleNotFoundError",
     "evalue": "No module named 'spacy'",
     "output_type": "error",
     "traceback": [
      "\u001b[31m---------------------------------------------------------------------------\u001b[39m",
      "\u001b[31mModuleNotFoundError\u001b[39m                       Traceback (most recent call last)",
      "\u001b[36mCell\u001b[39m\u001b[36m \u001b[39m\u001b[32mIn[11]\u001b[39m\u001b[32m, line 1\u001b[39m\n\u001b[32m----> \u001b[39m\u001b[32m1\u001b[39m \u001b[38;5;28;01mimport\u001b[39;00m\u001b[38;5;250m \u001b[39m\u001b[34;01mspacy\u001b[39;00m \n",
      "\u001b[31mModuleNotFoundError\u001b[39m: No module named 'spacy'"
     ]
    }
   ],
   "source": [
    "import spacy "
   ]
  },
  {
   "cell_type": "code",
   "execution_count": null,
   "id": "f1dca45f",
   "metadata": {},
   "outputs": [],
   "source": []
  }
 ],
 "metadata": {
  "kernelspec": {
   "display_name": "Python 3",
   "language": "python",
   "name": "python3"
  },
  "language_info": {
   "codemirror_mode": {
    "name": "ipython",
    "version": 3
   },
   "file_extension": ".py",
   "mimetype": "text/x-python",
   "name": "python",
   "nbconvert_exporter": "python",
   "pygments_lexer": "ipython3",
   "version": "3.13.2"
  }
 },
 "nbformat": 4,
 "nbformat_minor": 5
}
