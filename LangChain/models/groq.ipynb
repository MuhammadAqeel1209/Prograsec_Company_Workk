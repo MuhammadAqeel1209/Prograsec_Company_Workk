{
 "cells": [
  {
   "cell_type": "code",
   "execution_count": 1,
   "id": "698fa342",
   "metadata": {},
   "outputs": [],
   "source": [
    "import os \n",
    "from dotenv import load_dotenv\n",
    "# from langchain.chat_models import init_chat_model\n",
    "from langchain_groq import ChatGroq"
   ]
  },
  {
   "cell_type": "code",
   "execution_count": 2,
   "id": "8e4e07d5",
   "metadata": {},
   "outputs": [
    {
     "data": {
      "text/plain": [
       "True"
      ]
     },
     "execution_count": 2,
     "metadata": {},
     "output_type": "execute_result"
    }
   ],
   "source": [
    "load_dotenv()"
   ]
  },
  {
   "cell_type": "code",
   "execution_count": 3,
   "id": "47ae85c2",
   "metadata": {},
   "outputs": [],
   "source": [
    "api_key = os.getenv(\"GROQ_API_KEY\")"
   ]
  },
  {
   "cell_type": "code",
   "execution_count": 5,
   "id": "67803005",
   "metadata": {},
   "outputs": [],
   "source": [
    "# model = init_chat_model(\"llama3-8b-8192\", model_provider=\"groq\")\n",
    "model = ChatGroq(model=\"llama3-8b-8192\")"
   ]
  },
  {
   "cell_type": "code",
   "execution_count": 6,
   "id": "afce5e63",
   "metadata": {},
   "outputs": [
    {
     "name": "stdout",
     "output_type": "stream",
     "text": [
      "🤖 Chatbot is ready! Type 'exit' to quit.\n",
      "\n",
      "User Input : ho\n",
      "\n",
      "🤖 Chatbot: A short and sweet one! Did you want to say \"hello\" or is there something else on your mind?\n",
      "\n",
      "User Input : give me poem on cat\n",
      "\n",
      "🤖 Chatbot: Here's a poem about cats:\n",
      "\n",
      "**The Feline Muse**\n",
      "\n",
      "Whiskers twitch, ears perk up high\n",
      "Eyes gleam bright, like stars in the sky\n",
      "Fur as soft as silk to touch and play\n",
      "A gentle purr, a soothing way\n",
      "\n",
      "Her days are spent in lazy ease\n",
      "Sleeping sunbeams, warm and at peace\n",
      "Her nights, a prowl, a stealthy stride\n",
      "Hunting mice, with cunning pride\n",
      "\n",
      "Her eyes, like emeralds, green and bright\n",
      "Shine with a wisdom, beyond sight\n",
      "Her purrs, a lullaby, so sweet\n",
      "A symphony, to soothe the soul's beat\n",
      "\n",
      "Her claws, like razors, sharp and fine\n",
      "Tenderly touch, or swipe in time\n",
      "Her fur, a tapestry, rich and bold\n",
      "A work of art, a story to be told\n",
      "\n",
      "Oh, feline queen, with secrets kept\n",
      "A mystic presence, in our midst, asleep\n",
      "May your whiskers twitch, your ears perk high\n",
      "And your purrs, a lullaby, reach the sky.\n",
      "\n",
      "🤖 Chatbot: Goodbye!\n"
     ]
    }
   ],
   "source": [
    "# Simple chatbot loop\n",
    "print(\"🤖 Chatbot is ready! Type 'exit' to quit.\\n\")\n",
    "\n",
    "while True:\n",
    "    user_input = input(\"You: \")\n",
    "    if user_input.lower() in [\"exit\", \"quit\"]:\n",
    "        print(\"🤖 Chatbot: Goodbye!\")\n",
    "        break\n",
    "    print(f\"User Input : {user_input}\\n\")\n",
    "    response = model.invoke(user_input)\n",
    "    print(f\"🤖 Chatbot: {response.content}\\n\")"
   ]
  },
  {
   "cell_type": "code",
   "execution_count": null,
   "id": "a3101fc6",
   "metadata": {},
   "outputs": [],
   "source": []
  }
 ],
 "metadata": {
  "kernelspec": {
   "display_name": "prograsec",
   "language": "python",
   "name": "python3"
  },
  "language_info": {
   "codemirror_mode": {
    "name": "ipython",
    "version": 3
   },
   "file_extension": ".py",
   "mimetype": "text/x-python",
   "name": "python",
   "nbconvert_exporter": "python",
   "pygments_lexer": "ipython3",
   "version": "3.13.2"
  }
 },
 "nbformat": 4,
 "nbformat_minor": 5
}
