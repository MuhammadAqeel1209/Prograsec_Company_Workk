{
 "cells": [
  {
   "cell_type": "code",
   "execution_count": 1,
   "id": "e4548f43",
   "metadata": {},
   "outputs": [
    {
     "name": "stderr",
     "output_type": "stream",
     "text": [
      "e:\\Prograsec\\Work Pratice\\Prograsec_Company_Workk\\prograsec\\Lib\\site-packages\\tqdm\\auto.py:21: TqdmWarning: IProgress not found. Please update jupyter and ipywidgets. See https://ipywidgets.readthedocs.io/en/stable/user_install.html\n",
      "  from .autonotebook import tqdm as notebook_tqdm\n"
     ]
    }
   ],
   "source": [
    "import os\n",
    "from dotenv import load_dotenv\n",
    "# from langchain.chat_models import init_chat_model\n",
    "from langchain_google_genai import ChatGoogleGenerativeAI"
   ]
  },
  {
   "cell_type": "code",
   "execution_count": 2,
   "id": "a0e1683b",
   "metadata": {},
   "outputs": [
    {
     "data": {
      "text/plain": [
       "True"
      ]
     },
     "execution_count": 2,
     "metadata": {},
     "output_type": "execute_result"
    }
   ],
   "source": [
    "load_dotenv()"
   ]
  },
  {
   "cell_type": "code",
   "execution_count": 3,
   "id": "8f1827c8",
   "metadata": {},
   "outputs": [],
   "source": [
    "api_key = os.getenv(\"GOOGLE_API_KEY\")\n",
    "if not api_key:\n",
    "    raise ValueError(\"No API key found! Please set GOOGLE_API_KEY in your .env file.\")\n"
   ]
  },
  {
   "cell_type": "code",
   "execution_count": null,
   "id": "a0a5935c",
   "metadata": {},
   "outputs": [],
   "source": [
    "# model = init_chat_model(\"gemini-2.0-flash\", model_provider=\"google_genai\")\n",
    "model = ChatGoogleGenerativeAI(model=\"gemini-1.5-pro\", temperature=0.7)"
   ]
  },
  {
   "cell_type": "code",
   "execution_count": 5,
   "id": "0680c430",
   "metadata": {},
   "outputs": [
    {
     "name": "stdout",
     "output_type": "stream",
     "text": [
      "🤖 Chatbot is ready! Type 'exit' to quit.\n",
      "\n",
      "User Input : hi\n",
      "\n",
      "🤖 Chatbot: Hi there! How can I help you today?\n",
      "\n",
      "User Input : Give me 5 lines on cricket\n",
      "\n",
      "🤖 Chatbot: A flick of the wrist, the ball soars high,\n",
      "A diving catch, a hopeful cry.\n",
      "The bails are shattered, a wicket falls,\n",
      "The crowd erupts, ignoring calls.\n",
      "Cricket's a game of glorious fight.\n",
      "\n",
      "🤖 Chatbot: Goodbye!\n"
     ]
    }
   ],
   "source": [
    "# Simple chatbot loop\n",
    "print(\"🤖 Chatbot is ready! Type 'exit' to quit.\\n\")\n",
    "\n",
    "while True:\n",
    "    user_input = input(\"You: \")\n",
    "    if user_input.lower() in [\"exit\", \"quit\"]:\n",
    "        print(\"🤖 Chatbot: Goodbye!\")\n",
    "        break\n",
    "    print(f\"User Input : {user_input}\\n\")\n",
    "    response = model.invoke(user_input)\n",
    "    print(f\"🤖 Chatbot: {response.content}\\n\")"
   ]
  },
  {
   "cell_type": "code",
   "execution_count": null,
   "id": "425feca2",
   "metadata": {},
   "outputs": [],
   "source": []
  }
 ],
 "metadata": {
  "kernelspec": {
   "display_name": "prograsec",
   "language": "python",
   "name": "python3"
  },
  "language_info": {
   "codemirror_mode": {
    "name": "ipython",
    "version": 3
   },
   "file_extension": ".py",
   "mimetype": "text/x-python",
   "name": "python",
   "nbconvert_exporter": "python",
   "pygments_lexer": "ipython3",
   "version": "3.13.2"
  }
 },
 "nbformat": 4,
 "nbformat_minor": 5
}
