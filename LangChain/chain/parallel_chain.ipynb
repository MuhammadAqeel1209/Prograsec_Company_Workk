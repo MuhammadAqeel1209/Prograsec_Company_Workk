{
 "cells": [
  {
   "cell_type": "code",
   "execution_count": 1,
   "id": "6883653d",
   "metadata": {},
   "outputs": [
    {
     "name": "stderr",
     "output_type": "stream",
     "text": [
      "e:\\Prograsec\\Work Pratice\\Prograsec_Company_Workk\\prograsec\\Lib\\site-packages\\tqdm\\auto.py:21: TqdmWarning: IProgress not found. Please update jupyter and ipywidgets. See https://ipywidgets.readthedocs.io/en/stable/user_install.html\n",
      "  from .autonotebook import tqdm as notebook_tqdm\n"
     ]
    }
   ],
   "source": [
    "from langchain_google_genai import ChatGoogleGenerativeAI\n",
    "from dotenv import load_dotenv\n",
    "from langchain_core.prompts import PromptTemplate\n",
    "from langchain_core.output_parsers import StrOutputParser\n",
    "from langchain_groq import ChatGroq\n",
    "from langchain.schema.runnable import RunnableParallel"
   ]
  },
  {
   "cell_type": "code",
   "execution_count": 2,
   "id": "0afc2507",
   "metadata": {},
   "outputs": [
    {
     "data": {
      "text/plain": [
       "True"
      ]
     },
     "execution_count": 2,
     "metadata": {},
     "output_type": "execute_result"
    }
   ],
   "source": [
    "load_dotenv()"
   ]
  },
  {
   "cell_type": "code",
   "execution_count": 3,
   "id": "bfc24e72",
   "metadata": {},
   "outputs": [],
   "source": [
    "model_one = ChatGoogleGenerativeAI(model=\"gemini-1.5-pro\", temperature=0.7)\n",
    "model_two = ChatGroq(model=\"llama3-8b-8192\")"
   ]
  },
  {
   "cell_type": "code",
   "execution_count": 4,
   "id": "f90c027b",
   "metadata": {},
   "outputs": [],
   "source": [
    "prompt_one = PromptTemplate(\n",
    "    template='Generate short and simple notes from the following text \\n {text}',\n",
    "    input_variables=['text']\n",
    ")\n",
    "\n",
    "prompt_two = PromptTemplate(\n",
    "    template='Generate 5 short question answers from the following text \\n {text}',\n",
    "    input_variables=['text']\n",
    ")\n",
    "\n",
    "prompt_three = PromptTemplate(\n",
    "    template='Merge the provided notes and quiz into a single document \\n notes -> {notes} and quiz -> {quiz}',\n",
    "    input_variables=['notes', 'quiz']\n",
    ")"
   ]
  },
  {
   "cell_type": "code",
   "execution_count": 5,
   "id": "135deb47",
   "metadata": {},
   "outputs": [],
   "source": [
    "parser = StrOutputParser()"
   ]
  },
  {
   "cell_type": "code",
   "execution_count": 6,
   "id": "8583b680",
   "metadata": {},
   "outputs": [],
   "source": [
    "parallel_chain = RunnableParallel(\n",
    "    {\"notes\": prompt_one | model_one | parser, \"quiz\": prompt_two | model_two | parser}\n",
    ")\n",
    "merge_chain = prompt_three | model_one | parser"
   ]
  },
  {
   "cell_type": "code",
   "execution_count": 7,
   "id": "7429072a",
   "metadata": {},
   "outputs": [],
   "source": [
    "chain = parallel_chain | merge_chain"
   ]
  },
  {
   "cell_type": "code",
   "execution_count": 8,
   "id": "b0b2eda8",
   "metadata": {},
   "outputs": [],
   "source": [
    "text = \"\"\"\n",
    "Support vector machines (SVMs) are a set of supervised learning methods used for classification, regression and outliers detection.\n",
    "\n",
    "The advantages of support vector machines are:\n",
    "\n",
    "Effective in high dimensional spaces.\n",
    "\n",
    "Still effective in cases where number of dimensions is greater than the number of samples.\n",
    "\n",
    "Uses a subset of training points in the decision function (called support vectors), so it is also memory efficient.\n",
    "\n",
    "Versatile: different Kernel functions can be specified for the decision function. Common kernels are provided, but it is also possible to specify custom kernels.\n",
    "\n",
    "The disadvantages of support vector machines include:\n",
    "\n",
    "If the number of features is much greater than the number of samples, avoid over-fitting in choosing Kernel functions and regularization term is crucial.\n",
    "\n",
    "SVMs do not directly provide probability estimates, these are calculated using an expensive five-fold cross-validation (see Scores and probabilities, below).\n",
    "\n",
    "The support vector machines in scikit-learn support both dense (numpy.ndarray and convertible to that by numpy.asarray) and sparse (any scipy.sparse) sample vectors as input. However, to use an SVM to make predictions for sparse data, it must have been fit on such data. For optimal performance, use C-ordered numpy.ndarray (dense) or scipy.sparse.csr_matrix (sparse) with dtype=float64.\n",
    "\"\"\""
   ]
  },
  {
   "cell_type": "code",
   "execution_count": 9,
   "id": "fdcc251a",
   "metadata": {},
   "outputs": [],
   "source": [
    "result = chain.invoke({\n",
    "    \"text\" : text\n",
    "})"
   ]
  },
  {
   "cell_type": "code",
   "execution_count": 10,
   "id": "cda12364",
   "metadata": {},
   "outputs": [
    {
     "name": "stdout",
     "output_type": "stream",
     "text": [
      "## Support Vector Machines (SVMs)\n",
      "\n",
      "**Overview:**\n",
      "\n",
      "SVMs are supervised learning models used for classification, regression, and outlier detection.\n",
      "\n",
      "**Advantages:**\n",
      "\n",
      "* **Effective in high dimensions:**  SVMs perform well even when the number of dimensions exceeds the number of samples.\n",
      "* **Memory efficient:** They utilize only a subset of the training points called support vectors in the decision function, leading to memory efficiency.\n",
      "* **Versatile:** Customizable kernel functions allow flexibility in modeling non-linear relationships.\n",
      "\n",
      "**Disadvantages:**\n",
      "\n",
      "* **Overfitting risk:** When the number of features is significantly larger than the number of samples, there's a risk of overfitting. Careful selection of kernel functions and regularization parameters is crucial to mitigate this.\n",
      "* **No direct probability estimates:** SVMs don't directly provide probability estimates. Obtaining these requires computationally expensive methods like cross-validation.\n",
      "\n",
      "**Data Handling:**\n",
      "\n",
      "SVMs support both dense and sparse input data. However, it's essential to train and predict using the same data type for consistency. For optimal performance with scikit-learn, the following input formats are recommended:\n",
      "\n",
      "* **Dense data:** `numpy.ndarray` (C-ordered, `dtype=float64`)\n",
      "* **Sparse data:** `scipy.sparse.csr_matrix` (`dtype=float64`)\n",
      "\n",
      "\n",
      "**Short Question & Answers:**\n",
      "\n",
      "**Q1: What are the primary uses of Support Vector Machines (SVMs)?**\n",
      "\n",
      "**A1:** Classification, regression, and outlier detection.\n",
      "\n",
      "**Q2: What is a key advantage of SVMs in high-dimensional spaces?**\n",
      "\n",
      "**A2:** They remain effective even when the number of dimensions is greater than the number of samples.\n",
      "\n",
      "**Q3: How do SVMs achieve memory efficiency?**\n",
      "\n",
      "**A3:** By using a subset of training points called support vectors in the decision function.\n",
      "\n",
      "**Q4: What is a potential disadvantage of using SVMs with a large number of features?**\n",
      "\n",
      "**A4:**  Overfitting can occur, requiring careful selection of kernel functions and regularization parameters.\n",
      "\n",
      "**Q5: What type of input is recommended for SVMs in scikit-learn for optimal performance?**\n",
      "\n",
      "**A5:** C-ordered `numpy.ndarray` (dense) or `scipy.sparse.csr_matrix` (sparse) with `dtype=float64`.\n"
     ]
    }
   ],
   "source": [
    "print(result)"
   ]
  },
  {
   "cell_type": "code",
   "execution_count": 11,
   "id": "d9f8efaa",
   "metadata": {},
   "outputs": [
    {
     "name": "stdout",
     "output_type": "stream",
     "text": [
      "              +---------------------------+            \n",
      "              | Parallel<notes,quiz>Input |            \n",
      "              +---------------------------+            \n",
      "                    ***            ***                 \n",
      "                  **                  **               \n",
      "                **                      **             \n",
      "    +----------------+             +----------------+  \n",
      "    | PromptTemplate |             | PromptTemplate |  \n",
      "    +----------------+             +----------------+  \n",
      "             *                              *          \n",
      "             *                              *          \n",
      "             *                              *          \n",
      "+------------------------+            +----------+     \n",
      "| ChatGoogleGenerativeAI |            | ChatGroq |     \n",
      "+------------------------+            +----------+     \n",
      "             *                              *          \n",
      "             *                              *          \n",
      "             *                              *          \n",
      "    +-----------------+           +-----------------+  \n",
      "    | StrOutputParser |           | StrOutputParser |  \n",
      "    +-----------------+           +-----------------+  \n",
      "                    ***            ***                 \n",
      "                       **        **                    \n",
      "                         **    **                      \n",
      "              +----------------------------+           \n",
      "              | Parallel<notes,quiz>Output |           \n",
      "              +----------------------------+           \n",
      "                            *                          \n",
      "                            *                          \n",
      "                            *                          \n",
      "                    +----------------+                 \n",
      "                    | PromptTemplate |                 \n",
      "                    +----------------+                 \n",
      "                            *                          \n",
      "                            *                          \n",
      "                            *                          \n",
      "                +------------------------+             \n",
      "                | ChatGoogleGenerativeAI |             \n",
      "                +------------------------+             \n",
      "                            *                          \n",
      "                            *                          \n",
      "                            *                          \n",
      "                   +-----------------+                 \n",
      "                   | StrOutputParser |                 \n",
      "                   +-----------------+                 \n",
      "                            *                          \n",
      "                            *                          \n",
      "                            *                          \n",
      "                +-----------------------+              \n",
      "                | StrOutputParserOutput |              \n",
      "                +-----------------------+              \n"
     ]
    }
   ],
   "source": [
    "chain.get_graph().print_ascii()"
   ]
  },
  {
   "cell_type": "code",
   "execution_count": null,
   "id": "6de7709d",
   "metadata": {},
   "outputs": [],
   "source": []
  }
 ],
 "metadata": {
  "kernelspec": {
   "display_name": "prograsec",
   "language": "python",
   "name": "python3"
  },
  "language_info": {
   "codemirror_mode": {
    "name": "ipython",
    "version": 3
   },
   "file_extension": ".py",
   "mimetype": "text/x-python",
   "name": "python",
   "nbconvert_exporter": "python",
   "pygments_lexer": "ipython3",
   "version": "3.13.2"
  }
 },
 "nbformat": 4,
 "nbformat_minor": 5
}
