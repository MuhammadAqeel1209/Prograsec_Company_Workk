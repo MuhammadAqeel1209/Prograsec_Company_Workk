{
 "cells": [
  {
   "cell_type": "code",
   "execution_count": 14,
   "id": "bdf8c206",
   "metadata": {},
   "outputs": [],
   "source": [
    "from langchain_google_genai import ChatGoogleGenerativeAI\n",
    "from dotenv import load_dotenv\n",
    "from langchain_core.prompts import PromptTemplate\n",
    "from langchain_core.output_parsers import StrOutputParser\n",
    "from langchain_core.output_parsers import PydanticOutputParser\n",
    "from pydantic import BaseModel, Field\n",
    "from typing import Literal\n",
    "from langchain.schema.runnable import RunnableBranch,RunnableLambda"
   ]
  },
  {
   "cell_type": "code",
   "execution_count": 15,
   "id": "0ff44e65",
   "metadata": {},
   "outputs": [
    {
     "data": {
      "text/plain": [
       "True"
      ]
     },
     "execution_count": 15,
     "metadata": {},
     "output_type": "execute_result"
    }
   ],
   "source": [
    "load_dotenv()"
   ]
  },
  {
   "cell_type": "code",
   "execution_count": 16,
   "id": "62c862f3",
   "metadata": {},
   "outputs": [],
   "source": [
    "model = ChatGoogleGenerativeAI(model=\"gemini-1.5-pro\", temperature=0.7)\n",
    "parser = StrOutputParser()"
   ]
  },
  {
   "cell_type": "code",
   "execution_count": 17,
   "id": "fd407237",
   "metadata": {},
   "outputs": [],
   "source": [
    "class Feedback(BaseModel):\n",
    "\n",
    "    sentiment: Literal['positive', 'negative'] = Field(description='Give the sentiment of the feedback')\n",
    "\n",
    "parser_two = PydanticOutputParser(pydantic_object=Feedback)\n"
   ]
  },
  {
   "cell_type": "code",
   "execution_count": 18,
   "id": "89836526",
   "metadata": {},
   "outputs": [],
   "source": [
    "prompt1 = PromptTemplate(\n",
    "    template='Classify the sentiment of the following feedback text into postive or negative \\n {feedback} \\n {format_instruction}',\n",
    "    input_variables=['feedback'],\n",
    "    partial_variables={'format_instruction':parser_two.get_format_instructions()}\n",
    ")"
   ]
  },
  {
   "cell_type": "code",
   "execution_count": 19,
   "id": "7d307282",
   "metadata": {},
   "outputs": [],
   "source": [
    "classify_chain = prompt1 | model | parser_two"
   ]
  },
  {
   "cell_type": "code",
   "execution_count": 20,
   "id": "c1988bb8",
   "metadata": {},
   "outputs": [],
   "source": [
    "prompt2 = PromptTemplate(\n",
    "    template='Write an appropriate response to this positive feedback \\n {feedback}',\n",
    "    input_variables=['feedback']\n",
    ")\n",
    "\n",
    "prompt3 = PromptTemplate(\n",
    "    template='Write an appropriate response to this negative feedback \\n {feedback}',\n",
    "    input_variables=['feedback']\n",
    ")"
   ]
  },
  {
   "cell_type": "code",
   "execution_count": 21,
   "id": "7675209c",
   "metadata": {},
   "outputs": [],
   "source": [
    "branch_chain = RunnableBranch(\n",
    "    (lambda x:x.sentiment == 'positive', prompt2 | model | parser),\n",
    "    (lambda x:x.sentiment == 'negative', prompt3 | model | parser),\n",
    "    RunnableLambda(lambda x: \"could not find sentiment\")\n",
    ")"
   ]
  },
  {
   "cell_type": "code",
   "execution_count": 22,
   "id": "9b88b7f1",
   "metadata": {},
   "outputs": [],
   "source": [
    "chain = classify_chain | branch_chain"
   ]
  },
  {
   "cell_type": "code",
   "execution_count": 23,
   "id": "9bf4a6e9",
   "metadata": {},
   "outputs": [],
   "source": [
    "result = chain.invoke(\n",
    "    {\n",
    "        \"feedback\" : \"This is a great smartphones\"\n",
    "    }\n",
    ")"
   ]
  },
  {
   "cell_type": "code",
   "execution_count": 24,
   "id": "a043d43f",
   "metadata": {},
   "outputs": [
    {
     "name": "stdout",
     "output_type": "stream",
     "text": [
      "Several responses are appropriate, depending on the context. Here are a few options:\n",
      "\n",
      "**Formal:**\n",
      "\n",
      "* \"Thank you for your kind words. We appreciate your positive feedback.\"\n",
      "* \"We're delighted to hear you had a positive experience.  We strive to provide the best possible service/product.\"\n",
      "* \"Thank you for taking the time to share your feedback.  We're pleased to know you're satisfied.\"\n",
      "\n",
      "\n",
      "**Informal:**\n",
      "\n",
      "* \"Thanks so much! We really appreciate it.\"\n",
      "* \"Glad to hear you liked it!\"\n",
      "* \"Awesome, thanks for letting us know!\"\n",
      "\n",
      "\n",
      "**If you want to encourage more feedback:**\n",
      "\n",
      "* \"Thank you for your positive feedback! We're always looking for ways to improve, so if you have any further suggestions, please don't hesitate to share them.\"\n",
      "* \"We're so happy you had a great experience.  We'd love to hear more about what you enjoyed.\"\n",
      "\n",
      "\n",
      "**If the feedback was specific to something:**\n",
      "\n",
      "* \"Thank you! We're especially proud of [the specific thing they mentioned] and we're glad you enjoyed it.\"\n",
      "\n",
      "\n",
      "Choose the response that best fits the tone and context of the original feedback and your relationship with the person providing it.\n"
     ]
    }
   ],
   "source": [
    "print(result)"
   ]
  },
  {
   "cell_type": "code",
   "execution_count": 25,
   "id": "103ed520",
   "metadata": {},
   "outputs": [
    {
     "name": "stdout",
     "output_type": "stream",
     "text": [
      "      +-------------+      \n",
      "      | PromptInput |      \n",
      "      +-------------+      \n",
      "             *             \n",
      "             *             \n",
      "             *             \n",
      "    +----------------+     \n",
      "    | PromptTemplate |     \n",
      "    +----------------+     \n",
      "             *             \n",
      "             *             \n",
      "             *             \n",
      "+------------------------+ \n",
      "| ChatGoogleGenerativeAI | \n",
      "+------------------------+ \n",
      "             *             \n",
      "             *             \n",
      "             *             \n",
      " +----------------------+  \n",
      " | PydanticOutputParser |  \n",
      " +----------------------+  \n",
      "             *             \n",
      "             *             \n",
      "             *             \n",
      "        +--------+         \n",
      "        | Branch |         \n",
      "        +--------+         \n",
      "             *             \n",
      "             *             \n",
      "             *             \n",
      "     +--------------+      \n",
      "     | BranchOutput |      \n",
      "     +--------------+      \n"
     ]
    }
   ],
   "source": [
    "chain.get_graph().print_ascii()"
   ]
  },
  {
   "cell_type": "code",
   "execution_count": null,
   "id": "6dae9e5c",
   "metadata": {},
   "outputs": [],
   "source": []
  }
 ],
 "metadata": {
  "kernelspec": {
   "display_name": "prograsec",
   "language": "python",
   "name": "python3"
  },
  "language_info": {
   "codemirror_mode": {
    "name": "ipython",
    "version": 3
   },
   "file_extension": ".py",
   "mimetype": "text/x-python",
   "name": "python",
   "nbconvert_exporter": "python",
   "pygments_lexer": "ipython3",
   "version": "3.13.2"
  }
 },
 "nbformat": 4,
 "nbformat_minor": 5
}
