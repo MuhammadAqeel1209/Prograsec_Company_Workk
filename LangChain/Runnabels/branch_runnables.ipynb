{
 "cells": [
  {
   "cell_type": "code",
   "execution_count": 1,
   "id": "7d821e19",
   "metadata": {},
   "outputs": [
    {
     "name": "stderr",
     "output_type": "stream",
     "text": [
      "e:\\Prograsec\\Work Pratice\\Prograsec_Company_Workk\\prograsec\\Lib\\site-packages\\tqdm\\auto.py:21: TqdmWarning: IProgress not found. Please update jupyter and ipywidgets. See https://ipywidgets.readthedocs.io/en/stable/user_install.html\n",
      "  from .autonotebook import tqdm as notebook_tqdm\n"
     ]
    },
    {
     "data": {
      "text/plain": [
       "True"
      ]
     },
     "execution_count": 1,
     "metadata": {},
     "output_type": "execute_result"
    }
   ],
   "source": [
    "from langchain_google_genai import ChatGoogleGenerativeAI\n",
    "from dotenv import load_dotenv\n",
    "from langchain_core.prompts import PromptTemplate\n",
    "from langchain_core.output_parsers import StrOutputParser\n",
    "from langchain.schema.runnable import (\n",
    "    RunnableSequence,\n",
    "    RunnableLambda,\n",
    "    RunnablePassthrough,\n",
    "    RunnableParallel,\n",
    "    RunnableBranch\n",
    ")\n",
    "\n",
    "load_dotenv()"
   ]
  },
  {
   "cell_type": "code",
   "execution_count": 2,
   "id": "3813ac09",
   "metadata": {},
   "outputs": [],
   "source": [
    "model = ChatGoogleGenerativeAI(model=\"gemini-1.5-pro\", temperature=0.7)\n",
    "\n",
    "parser = StrOutputParser()"
   ]
  },
  {
   "cell_type": "code",
   "execution_count": 3,
   "id": "349834fb",
   "metadata": {},
   "outputs": [],
   "source": [
    "prompt1 = PromptTemplate(\n",
    "    template='Write a detailed report on {topic}',\n",
    "    input_variables=['topic']\n",
    ")\n",
    "\n",
    "prompt2 = PromptTemplate(\n",
    "    template='Summarize the following text \\n {text}',\n",
    "    input_variables=['text']\n",
    ")"
   ]
  },
  {
   "cell_type": "code",
   "execution_count": 4,
   "id": "96c84e01",
   "metadata": {},
   "outputs": [],
   "source": [
    "get_report = RunnableSequence(prompt1,model,parser)"
   ]
  },
  {
   "cell_type": "code",
   "execution_count": 6,
   "id": "3641aa69",
   "metadata": {},
   "outputs": [],
   "source": [
    "branch_chain = RunnableBranch(\n",
    "    (lambda x :len(x.split()) > 500,RunnableSequence(prompt2,model,parser)),\n",
    "    RunnablePassthrough()\n",
    ")"
   ]
  },
  {
   "cell_type": "code",
   "execution_count": 7,
   "id": "e691771e",
   "metadata": {},
   "outputs": [],
   "source": [
    "final_chain = RunnableSequence(get_report,branch_chain)"
   ]
  },
  {
   "cell_type": "code",
   "execution_count": 8,
   "id": "01872975",
   "metadata": {},
   "outputs": [],
   "source": [
    "result = final_chain.invoke({\n",
    "    \"topic\" :\"University\"\n",
    "})"
   ]
  },
  {
   "cell_type": "code",
   "execution_count": 9,
   "id": "aa5e1c2b",
   "metadata": {},
   "outputs": [
    {
     "name": "stdout",
     "output_type": "stream",
     "text": [
      "This report provides a comprehensive overview of universities, exploring their history, functions, challenges, and future prospects.  Originating in medieval Europe as centers for religious and philosophical study, universities evolved through the Renaissance and Scientific Revolution, expanding their focus to encompass empirical observation and a broader range of subjects.  The 19th and 20th centuries saw increased access to higher education and the rise of research universities.\n",
      "\n",
      "Universities' core functions include teaching and learning, research and scholarship, public engagement, and cultural preservation. However, they face contemporary challenges such as funding and affordability, ensuring relevance and employability, adapting to technological disruption, promoting equity and inclusion, navigating academic freedom and free speech issues, and responding to globalization.\n",
      "\n",
      "The future of universities depends on their adaptability.  Key trends include interdisciplinary learning, personalized and adaptive learning experiences, lifelong learning and micro-credentials, experiential learning, and stronger partnerships with industry and government.  The report concludes that universities remain crucial for societal progress, and their continued relevance hinges on their ability to innovate and address these evolving challenges.\n"
     ]
    }
   ],
   "source": [
    "print(result)"
   ]
  },
  {
   "cell_type": "code",
   "execution_count": null,
   "id": "c913b02e",
   "metadata": {},
   "outputs": [],
   "source": []
  }
 ],
 "metadata": {
  "kernelspec": {
   "display_name": "prograsec",
   "language": "python",
   "name": "python3"
  },
  "language_info": {
   "codemirror_mode": {
    "name": "ipython",
    "version": 3
   },
   "file_extension": ".py",
   "mimetype": "text/x-python",
   "name": "python",
   "nbconvert_exporter": "python",
   "pygments_lexer": "ipython3",
   "version": "3.13.2"
  }
 },
 "nbformat": 4,
 "nbformat_minor": 5
}
