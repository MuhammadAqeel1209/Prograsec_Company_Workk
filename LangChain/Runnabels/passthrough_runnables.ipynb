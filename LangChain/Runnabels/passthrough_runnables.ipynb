{
 "cells": [
  {
   "cell_type": "code",
   "execution_count": 19,
   "id": "5f4526c3",
   "metadata": {},
   "outputs": [
    {
     "data": {
      "text/plain": [
       "True"
      ]
     },
     "execution_count": 19,
     "metadata": {},
     "output_type": "execute_result"
    }
   ],
   "source": [
    "from langchain_google_genai import ChatGoogleGenerativeAI\n",
    "from dotenv import load_dotenv\n",
    "from langchain_core.prompts import PromptTemplate\n",
    "from langchain_core.output_parsers import StrOutputParser\n",
    "from langchain.schema.runnable import RunnablePassthrough,RunnableSequence,RunnableParallel\n",
    "load_dotenv()"
   ]
  },
  {
   "cell_type": "code",
   "execution_count": 20,
   "id": "d7d55e62",
   "metadata": {},
   "outputs": [],
   "source": [
    "model = ChatGoogleGenerativeAI(model=\"gemini-1.5-pro\", temperature=0.7)\n",
    "\n",
    "parser = StrOutputParser()"
   ]
  },
  {
   "cell_type": "code",
   "execution_count": 21,
   "id": "f36bb42f",
   "metadata": {},
   "outputs": [],
   "source": [
    "prompt1 = PromptTemplate(\n",
    "    template='Write a joke about {topic}',\n",
    "    input_variables=['topic']\n",
    ")\n",
    "\n",
    "prompt2 = PromptTemplate(\n",
    "    template='Explain the following joke - {text}',\n",
    "    input_variables=['text']\n",
    ")"
   ]
  },
  {
   "cell_type": "code",
   "execution_count": 22,
   "id": "c10c956e",
   "metadata": {},
   "outputs": [],
   "source": [
    "joke_generater_chain = RunnableSequence(prompt1, model, parser)"
   ]
  },
  {
   "cell_type": "code",
   "execution_count": 23,
   "id": "14537f6d",
   "metadata": {},
   "outputs": [],
   "source": [
    "parralel = RunnableParallel(\n",
    "    {\n",
    "        \"joke\" : RunnablePassthrough(),\n",
    "        \"explain\" : RunnableSequence(prompt2,model,parser)\n",
    "    }\n",
    ")"
   ]
  },
  {
   "cell_type": "code",
   "execution_count": 24,
   "id": "1196c9c7",
   "metadata": {},
   "outputs": [],
   "source": [
    "final = RunnableSequence(joke_generater_chain,parralel)"
   ]
  },
  {
   "cell_type": "code",
   "execution_count": 25,
   "id": "5a05f1bd",
   "metadata": {},
   "outputs": [],
   "source": [
    "result = final.invoke({\n",
    "    \"topic\" : \"Football\"\n",
    "})"
   ]
  },
  {
   "cell_type": "code",
   "execution_count": 26,
   "id": "d0ebc503",
   "metadata": {},
   "outputs": [
    {
     "name": "stdout",
     "output_type": "stream",
     "text": [
      "{'joke': 'Why did the football player bring string to the game?\\n\\nSo he could tie the score!', 'explain': 'This joke relies on a pun, using two different meanings of the word \"tie.\"\\n\\n* **Tie (in sports):** When two teams have the same score at the end of a game, it\\'s called a tie.\\n* **Tie (with string):**  To physically fasten something with string or rope.\\n\\nThe joke sets up the expectation that the football player needs string for a practical reason related to the game.  The punchline subverts this expectation by using the \"tie the score\" meaning, creating a humorous and unexpected image of someone literally tying the numbers on the scoreboard together.'}\n"
     ]
    }
   ],
   "source": [
    "print(result)"
   ]
  }
 ],
 "metadata": {
  "kernelspec": {
   "display_name": "prograsec",
   "language": "python",
   "name": "python3"
  },
  "language_info": {
   "codemirror_mode": {
    "name": "ipython",
    "version": 3
   },
   "file_extension": ".py",
   "mimetype": "text/x-python",
   "name": "python",
   "nbconvert_exporter": "python",
   "pygments_lexer": "ipython3",
   "version": "3.13.2"
  }
 },
 "nbformat": 4,
 "nbformat_minor": 5
}
