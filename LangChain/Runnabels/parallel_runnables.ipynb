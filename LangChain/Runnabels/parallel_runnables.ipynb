{
 "cells": [
  {
   "cell_type": "code",
   "execution_count": 15,
   "id": "9bd4e5b2",
   "metadata": {},
   "outputs": [],
   "source": [
    "from langchain_google_genai import ChatGoogleGenerativeAI\n",
    "from dotenv import load_dotenv\n",
    "from langchain_core.prompts import PromptTemplate\n",
    "from langchain_core.output_parsers import StrOutputParser\n",
    "from langchain.schema.runnable import RunnableParallel"
   ]
  },
  {
   "cell_type": "code",
   "execution_count": 16,
   "id": "c34b7fa2",
   "metadata": {},
   "outputs": [
    {
     "data": {
      "text/plain": [
       "True"
      ]
     },
     "execution_count": 16,
     "metadata": {},
     "output_type": "execute_result"
    }
   ],
   "source": [
    "load_dotenv()"
   ]
  },
  {
   "cell_type": "code",
   "execution_count": 17,
   "id": "df92b1a0",
   "metadata": {},
   "outputs": [],
   "source": [
    "model = ChatGoogleGenerativeAI(model=\"gemini-1.5-pro\", temperature=0.7)\n",
    "\n",
    "parser = StrOutputParser()"
   ]
  },
  {
   "cell_type": "code",
   "execution_count": 18,
   "id": "e8dd6d9f",
   "metadata": {},
   "outputs": [],
   "source": [
    "prompt1 = PromptTemplate(\n",
    "    template='Generate a tweet about {topic}',\n",
    "    input_variables=['topic']\n",
    ")\n",
    "\n",
    "prompt2 = PromptTemplate(\n",
    "    template='Generate a Linkedin post about {topic}',\n",
    "    input_variables=['topic']\n",
    ")"
   ]
  },
  {
   "cell_type": "code",
   "execution_count": 19,
   "id": "b78647bd",
   "metadata": {},
   "outputs": [],
   "source": [
    "parrallel_chain = RunnableParallel(\n",
    "    {\n",
    "        \"tweet\" : prompt1 | model | parser,\n",
    "        \"linkedin\" : prompt2 | model | parser\n",
    "    }\n",
    ")"
   ]
  },
  {
   "cell_type": "code",
   "execution_count": 20,
   "id": "bc722056",
   "metadata": {},
   "outputs": [],
   "source": [
    "result = parrallel_chain.invoke({\n",
    "    \"topic\" : \"AI\"\n",
    "})"
   ]
  },
  {
   "cell_type": "code",
   "execution_count": 21,
   "id": "75f962a1",
   "metadata": {},
   "outputs": [
    {
     "name": "stdout",
     "output_type": "stream",
     "text": [
      "Tweet\t AI is evolving so fast, it's like watching a sci-fi movie unfold in real time.  🤯 From self-driving cars to personalized medicine, the possibilities are both exciting and a little bit intimidating. What AI application are you most curious about? #AI #ArtificialIntelligence #FutureTech\n",
      "\n",
      "Linkedin\t **Option 1 (Focusing on excitement):**\n",
      "\n",
      "The future is intelligent! ✨ I'm constantly amazed by the rapid advancements in AI and its potential to revolutionize industries. From automating mundane tasks to unlocking groundbreaking discoveries, the possibilities seem endless. What AI application are you most excited about?  #AI #ArtificialIntelligence #Innovation #FutureofWork\n",
      "\n",
      "\n",
      "**Option 2 (Focusing on a specific application):**\n",
      "\n",
      "Just saw a demo of [Specific AI tool/application, e.g., generative AI for content creation] and I'm blown away! 🤯 The ability to [Specific benefit, e.g., create marketing copy in seconds] is a game-changer for [Specific industry/profession, e.g., content marketers].  Anyone else experimenting with this technology?  #AI #[Relevant hashtag, e.g., ContentMarketing] #[Relevant hashtag, e.g., GenerativeAI]\n",
      "\n",
      "\n",
      "**Option 3 (Focusing on the challenges):**\n",
      "\n",
      "AI is undeniably powerful, but it also presents important ethical considerations.  As we embrace this technology, we need to prioritize responsible development and address potential biases.  What are your thoughts on the ethical implications of AI? #AI #ArtificialIntelligence #Ethics #ResponsibleAI\n",
      "\n",
      "\n",
      "**Option 4 (Focusing on learning):**\n",
      "\n",
      "I'm diving deep into the world of AI and machine learning!  Currently exploring [Specific area of AI, e.g., natural language processing]. Any recommendations for resources, courses, or communities?  #AI #MachineLearning #NLP #Learning\n",
      "\n",
      "\n",
      "**Option 5 (Sharing an article):**\n",
      "\n",
      "This article on [Topic related to AI] offers a fascinating perspective on [Key takeaway from the article].  Definitely worth a read for anyone interested in the future of AI. [Link to article] #AI #ArtificialIntelligence #[Relevant hashtag]\n",
      "\n",
      "\n",
      "**Remember to:**\n",
      "\n",
      "* **Keep it concise and engaging.**\n",
      "* **Use relevant hashtags.**\n",
      "* **Encourage interaction by asking questions.**\n",
      "* **Tailor the post to your specific audience and industry.**\n",
      "* **Consider adding a relevant image or video.**\n"
     ]
    }
   ],
   "source": [
    "print(\"Tweet\\t\",result['tweet'])\n",
    "print(\"\\nLinkedin\\t\",result['linkedin'])"
   ]
  },
  {
   "cell_type": "code",
   "execution_count": null,
   "id": "3e3b7802",
   "metadata": {},
   "outputs": [],
   "source": []
  }
 ],
 "metadata": {
  "kernelspec": {
   "display_name": "prograsec",
   "language": "python",
   "name": "python3"
  },
  "language_info": {
   "codemirror_mode": {
    "name": "ipython",
    "version": 3
   },
   "file_extension": ".py",
   "mimetype": "text/x-python",
   "name": "python",
   "nbconvert_exporter": "python",
   "pygments_lexer": "ipython3",
   "version": "3.13.2"
  }
 },
 "nbformat": 4,
 "nbformat_minor": 5
}
