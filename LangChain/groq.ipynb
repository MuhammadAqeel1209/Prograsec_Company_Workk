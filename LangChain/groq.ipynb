{
 "cells": [
  {
   "cell_type": "code",
   "execution_count": null,
   "id": "698fa342",
   "metadata": {},
   "outputs": [],
   "source": [
    "import os \n",
    "from dotenv import load_dotenv\n",
    "from langchain.chat_models import init_chat_model"
   ]
  },
  {
   "cell_type": "code",
   "execution_count": 2,
   "id": "8e4e07d5",
   "metadata": {},
   "outputs": [
    {
     "data": {
      "text/plain": [
       "True"
      ]
     },
     "execution_count": 2,
     "metadata": {},
     "output_type": "execute_result"
    }
   ],
   "source": [
    "load_dotenv()"
   ]
  },
  {
   "cell_type": "code",
   "execution_count": 3,
   "id": "47ae85c2",
   "metadata": {},
   "outputs": [],
   "source": [
    "api_key = os.getenv(\"GROQ_API_KEY\")"
   ]
  },
  {
   "cell_type": "code",
   "execution_count": 5,
   "id": "67803005",
   "metadata": {},
   "outputs": [],
   "source": [
    "model = init_chat_model(\"llama3-8b-8192\", model_provider=\"groq\")"
   ]
  },
  {
   "cell_type": "code",
   "execution_count": 6,
   "id": "afce5e63",
   "metadata": {},
   "outputs": [
    {
     "name": "stdout",
     "output_type": "stream",
     "text": [
      "🤖 Chatbot is ready! Type 'exit' to quit.\n",
      "\n",
      "User Input : hi\n",
      "\n",
      "🤖 Chatbot: Hi! It's nice to meet you. Is there something I can help you with, or would you like to chat?\n",
      "\n",
      "User Input : What is python langauge ?\n",
      "\n",
      "🤖 Chatbot: Python is a high-level, interpreted programming language that is widely used for various purposes such as web development, scientific computing, data analysis, artificial intelligence, and more. It was created in the late 1980s by Guido van Rossum and was first released in 1991.\n",
      "\n",
      "Here are some key features of the Python language:\n",
      "\n",
      "1. **Easy to learn**: Python has a simple syntax and is relatively easy to read and write, making it a great language for beginners.\n",
      "2. **High-level language**: Python is a high-level language, meaning it abstracts away many low-level details, allowing developers to focus on the logic of their code rather than the implementation details.\n",
      "3. **Interpreted language**: Python code is interpreted at runtime, rather than being compiled beforehand. This makes it easy to write and test code quickly.\n",
      "4. **Dynamic typing**: Python is dynamically typed, which means that you don't need to declare the data type of a variable before using it.\n",
      "5. **Object-oriented**: Python supports object-oriented programming (OOP) concepts such as classes, objects, inheritance, and polymorphism.\n",
      "6. **Large standard library**: Python has a vast and comprehensive standard library that includes modules for various tasks, such as file I/O, networking, and data structures.\n",
      "7. **Cross-platform**: Python can run on multiple platforms, including Windows, macOS, and Linux.\n",
      "\n",
      "Python is widely used in many areas, including:\n",
      "\n",
      "1. **Web development**: Python is used to build web applications using frameworks such as Django, Flask, and Pyramid.\n",
      "2. **Data analysis and science**: Python is used extensively in data analysis, machine learning, and scientific computing, thanks to libraries such as NumPy, Pandas, and scikit-learn.\n",
      "3. **Automation**: Python is used to automate tasks and processes, such as data processing, file management, and system administration.\n",
      "4. **Artificial intelligence and machine learning**: Python is used to build AI and ML models, including natural language processing, computer vision, and deep learning.\n",
      "5. **Education**: Python is a popular teaching language, due to its simplicity and ease of use.\n",
      "\n",
      "Overall, Python is a versatile and powerful language that is well-suited for a wide range of applications.\n",
      "\n",
      "🤖 Chatbot: Goodbye!\n"
     ]
    }
   ],
   "source": [
    "# Simple chatbot loop\n",
    "print(\"🤖 Chatbot is ready! Type 'exit' to quit.\\n\")\n",
    "\n",
    "while True:\n",
    "    user_input = input(\"You: \")\n",
    "    if user_input.lower() in [\"exit\", \"quit\"]:\n",
    "        print(\"🤖 Chatbot: Goodbye!\")\n",
    "        break\n",
    "    print(f\"User Input : {user_input}\\n\")\n",
    "    response = model.invoke(user_input)\n",
    "    print(f\"🤖 Chatbot: {response.content}\\n\")"
   ]
  },
  {
   "cell_type": "code",
   "execution_count": null,
   "id": "a3101fc6",
   "metadata": {},
   "outputs": [],
   "source": []
  }
 ],
 "metadata": {
  "kernelspec": {
   "display_name": "prograsec",
   "language": "python",
   "name": "python3"
  },
  "language_info": {
   "codemirror_mode": {
    "name": "ipython",
    "version": 3
   },
   "file_extension": ".py",
   "mimetype": "text/x-python",
   "name": "python",
   "nbconvert_exporter": "python",
   "pygments_lexer": "ipython3",
   "version": "3.13.2"
  }
 },
 "nbformat": 4,
 "nbformat_minor": 5
}
